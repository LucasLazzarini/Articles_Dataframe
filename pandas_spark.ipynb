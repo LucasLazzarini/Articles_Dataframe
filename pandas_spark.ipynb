{
  "nbformat": 4,
  "nbformat_minor": 0,
  "metadata": {
    "colab": {
      "provenance": []
    },
    "kernelspec": {
      "name": "python3",
      "display_name": "Python 3"
    },
    "language_info": {
      "name": "python"
    }
  },
  "cells": [
    {
      "cell_type": "code",
      "execution_count": 1,
      "metadata": {
        "colab": {
          "base_uri": "https://localhost:8080/"
        },
        "id": "t-CpZ2o-FRrk",
        "outputId": "c759f5ab-0873-455b-ef1d-11e7996b4f96"
      },
      "outputs": [
        {
          "output_type": "stream",
          "name": "stdout",
          "text": [
            "Looking in indexes: https://pypi.org/simple, https://us-python.pkg.dev/colab-wheels/public/simple/\n",
            "Collecting pyspark\n",
            "  Downloading pyspark-3.3.1.tar.gz (281.4 MB)\n",
            "\u001b[K     |████████████████████████████████| 281.4 MB 37 kB/s \n",
            "\u001b[?25hCollecting findspark\n",
            "  Downloading findspark-2.0.1-py2.py3-none-any.whl (4.4 kB)\n",
            "Collecting py4j==0.10.9.5\n",
            "  Downloading py4j-0.10.9.5-py2.py3-none-any.whl (199 kB)\n",
            "\u001b[K     |████████████████████████████████| 199 kB 49.3 MB/s \n",
            "\u001b[?25hBuilding wheels for collected packages: pyspark\n",
            "  Building wheel for pyspark (setup.py) ... \u001b[?25l\u001b[?25hdone\n",
            "  Created wheel for pyspark: filename=pyspark-3.3.1-py2.py3-none-any.whl size=281845512 sha256=bb8641ed231764e62709f94dc82c65b90c0cef0029e5f6850a08c69c37b56801\n",
            "  Stored in directory: /root/.cache/pip/wheels/42/59/f5/79a5bf931714dcd201b26025347785f087370a10a3329a899c\n",
            "Successfully built pyspark\n",
            "Installing collected packages: py4j, pyspark, findspark\n",
            "Successfully installed findspark-2.0.1 py4j-0.10.9.5 pyspark-3.3.1\n"
          ]
        }
      ],
      "source": [
        "!pip install pyspark findspark"
      ]
    },
    {
      "cell_type": "code",
      "source": [
        "from pyspark.sql import SparkSession\n",
        "\n",
        "from pyspark.sql import functions as F\n",
        "from pyspark.sql.types import *\n",
        "from pyspark.sql.window import Window\n",
        "\n",
        "import math\n",
        "import pandas as pd\n",
        "import random\n",
        "import numpy as np\n",
        "from google.colab import drive \n",
        "\n",
        "import findspark\n",
        "\n",
        "drive.mount('/content/drive')\n",
        "findspark.init()\n",
        "spark = SparkSession.builder.appName('SparkRDDExamples').getOrCreate()"
      ],
      "metadata": {
        "colab": {
          "base_uri": "https://localhost:8080/"
        },
        "id": "DFEJm-bTGsmB",
        "outputId": "86636c6b-cbc4-45ef-f069-6bbfe638d143"
      },
      "execution_count": 2,
      "outputs": [
        {
          "output_type": "stream",
          "name": "stdout",
          "text": [
            "Mounted at /content/drive\n"
          ]
        }
      ]
    },
    {
      "cell_type": "code",
      "source": [
        "df_bibtex = spark.read.load('/content/drive/MyDrive/exercicio/results_bibtex.csv', format=\"csv\", sep=\",\", inferSchema=\"true\", header=\"true\")"
      ],
      "metadata": {
        "id": "ab3mdvZyHS4d"
      },
      "execution_count": 3,
      "outputs": []
    },
    {
      "cell_type": "code",
      "source": [
        "df_bibtex.show()"
      ],
      "metadata": {
        "colab": {
          "base_uri": "https://localhost:8080/"
        },
        "id": "olCxRtZNJlrN",
        "outputId": "d7db867a-058c-446c-920d-ee0c092342d8"
      },
      "execution_count": 4,
      "outputs": [
        {
          "output_type": "stream",
          "name": "stdout",
          "text": [
            "+---+--------------------+--------+--------------+----------------+--------------------+--------------------+--------------------+--------------------+--------------------+--------------------+--------------------+--------------------+--------------------+--------------------+--------------------+--------------------+--------------------+--------------------+--------------------+--------------------+--------------------+-------------+--------------------+--------------------+\n",
            "|_c0|            keywords|numpages|         pages|          series|            location|            abstract|                 doi|                 url|             address|           publisher|                isbn|                year|              author|               title|    type_publication|                  id|              number|              volume|             journal|           booktitle|                issn|         note|              editor|             edition|\n",
            "+---+--------------------+--------+--------------+----------------+--------------------+--------------------+--------------------+--------------------+--------------------+--------------------+--------------------+--------------------+--------------------+--------------------+--------------------+--------------------+--------------------+--------------------+--------------------+--------------------+--------------------+-------------+--------------------+--------------------+\n",
            "|  0|dendritic cell al...|       2|  103\\u2013104|       GECCO '18|        Kyoto, Japan|In this work, we ...|10.1145/3205651.3...|https://doi.org/1...|   New York, NY, USA|Association for C...|       9781450357647|                2018|Dagdia Zaineb Che...|a distributed den...|       inproceedings|10.1145/3205651.3...|                null|                null|                null|                null|                null|         null|                null|                null|\n",
            "|  1|                null|       6|    12\\u201317|            null|                null|                null|     10.1145/3392050|https://doi.org/1...|   New York, NY, USA|Association for C...|                null|                2020|    Walker Henry M. |classroom vignett...|       inproceedings|     10.1145/3392050|                null|                null|                null|                null|                null|         null|                null|                null|\n",
            "|  2|                null|       5|  849\\u2013853|       ICCIR '22|      Nanjing, China|In view of the im...|10.1145/3548608.3...|https://doi.org/1...|   New York, NY, USA|Association for C...|       9781450397179|                2022|Wang Dianhui , Su...|research and deve...|       inproceedings|10.1145/3548608.3...|                null|                null|                null|                null|                null|         null|                null|                null|\n",
            "|  3|metadata, dataset...|       8|      1\\u20138|       PEARC '22|     Boston, MA, USA|The Scholarly Dat...|10.1145/3491418.3...|https://doi.org/1...|   New York, NY, USA|Association for C...|       9781450391610|                2022|Chapman Katie , R...|scholarly data sh...|       inproceedings|10.1145/3491418.3...|                null|                null|                null|                null|                null|         null|                null|                null|\n",
            "|  4|AI-system, GDP fo...|       6|      1\\u20136|   SPBPU IDE '19|Saint Petersburg,...|\"The relevance of...| deep learning an...| experience has p...| certain issues o...|               banks| insurance organi...|10.1145/3372177.3...|https://doi.org/1...|   New York, NY, USA|Association for C...|       9781450372442|                2019|Lomakin Nikolay ,...|\"digital ai \"\"dec...|       inproceedings|10.1145/3372177.3...|         null|                null|                null|\n",
            "|  5|hardware-software...|       8|  699\\u2013706|       ICCAD '17|  Irvine, California|Data clustering i...|                null|                null|                null|          IEEE Press|                null|                2017|Lee Dajung , Alth...|a streaming clust...|       inproceedings|10.5555/3199700.3...|                null|                null|                null|                null|                null|         null|                null|                null|\n",
            "|  6|                null|       4|  627\\u2013630|      CCGRID '16| Cartagena, Columbia|Most research has...|10.1109/CCGrid.20...|https://doi.org/1...|                null|          IEEE Press|       9781509024520|                2016|Zhang Yiqun , Ord...|big data analytic...|       inproceedings|10.1109/CCGrid.20...|                null|                null|                null|                null|                null|         null|                null|                null|\n",
            "|  7|                null|       4|  366\\u2013369|    ICISCAE 2021|       Dalian, China|Under the backgro...|10.1145/3482632.3...|https://doi.org/1...|   New York, NY, USA|Association for C...|       9781450390255|                2021|           Yang Fan |discussion on aut...|       inproceedings|10.1145/3482632.3...|                null|                null|                null|                null|                null|         null|                null|                null|\n",
            "|  8|many cpus/cores/g...|       1|             3|         UCC '17|  Austin, Texas, USA|\"Big Data is the ...|       fuel commerce| and drive progre...| there is also br...|  Internet of Things|        Smart Cities|          and others| it is critical t...| and fast communi...| parallel process...|             current| and future activ...|              speeds| and complexity a...|          deployable| and operational....|     academia|      and government| with the goal of...|\n",
            "|  9|sql, databases cu...|       6|  413\\u2013418|      SIGCSE '16|Memphis, Tennesse...|The Structured Qu...|10.1145/2839509.2...|https://doi.org/1...|   New York, NY, USA|Association for C...|       9781450336857|                2016|Silva Yasin N. , ...|sql: from traditi...|       inproceedings|10.1145/2839509.2...|                null|                null|                null|                null|                null|         null|                null|                null|\n",
            "| 10|Correlation Analy...|       5|    59\\u201363|       ICDTE '17|      Taipei, Taiwan|In recent years, ...|10.1145/3134847.3...|https://doi.org/1...|   New York, NY, USA|Association for C...|       9781450352833|                2017|Wan Jian , Chen B...|mining and measur...|       inproceedings|10.1145/3134847.3...|                null|                null|                null|                null|                null|         null|                null|                null|\n",
            "| 11|spark big data, d...|      14|  387\\u2013400|        PACT '16|       Haifa, Israel|Much research wor...|10.1145/2967938.2...|https://doi.org/1...|   New York, NY, USA|Association for C...|       9781450341219|                2016|Jia Zhen , Xue Ch...|auto-tuning spark...|       inproceedings|10.1145/2967938.2...|                null|                null|                null|                null|                null|         null|                null|                null|\n",
            "| 12|critical success ...|      22|     1\\u201322|            null|                null|The accounting in...|     10.1145/2700833|https://doi.org/1...|   New York, NY, USA|Association for C...|                null|                2015|       Xu Hongjiang |what are the most...|       inproceedings|     10.1145/2700833|                null|                null|                null|                null|                null|         null|                null|                null|\n",
            "| 13|Statistics, Case ...|       8|    12\\u201319|       ICDEL '22|      Beijing, China|At present, the b...|10.1145/3543321.3...|https://doi.org/1...|   New York, NY, USA|Association for C...|       9781450396417|                2022| Jia Ping , Liu Xin |teaching reform a...|       inproceedings|10.1145/3543321.3...|                null|                null|                null|                null|                null|         null|                null|                null|\n",
            "| 14|graph summarizati...|       8|      1\\u20138|        WIMS '17|      Amantea, Italy|\"A significant nu...| contemporary mod...| we propose a new...| present our appr...| and outline a po...| with the advent ...| our approach wil...| and will improve...|10.1145/3102254.3...|https://doi.org/1...|   New York, NY, USA|Association for C...|       9781450352253|                2017|Jamil Hasan M. , ...|a novel model for...|inproceedings|10.1145/3102254.3...|                null|\n",
            "| 15|Lyapunov Central ...|       5|    34\\u201338|      ICCBDC '21|Liverpool, United...|Central Limit The...|10.1145/3481646.3...|https://doi.org/1...|   New York, NY, USA|Association for C...|       9781450390408|                2021|Cuzzocrea Alfredo...|lyapunov central ...|       inproceedings|10.1145/3481646.3...|                null|                null|                null|                null|                null|         null|                null|                null|\n",
            "| 16|privacy, standard...|       6|    12\\u201317|       ICBSP '19|       Nagoya, Japan|In this paper, we...|10.1145/3366174.3...|https://doi.org/1...|   New York, NY, USA|Association for C...|       9781450372954|                2019|Kaneko Itaru , Yu...|on the privacy of...|       inproceedings|10.1145/3366174.3...|                null|                null|                null|                null|                null|         null|                null|                null|\n",
            "| 17|                null|       2|1166\\u20131167|            null|                null|                null|10.14778/2536222....|https://doi.org/1...|                null|      VLDB Endowment|                null|                2013|Bedini Ivan , Els...|the trento big da...|       inproceedings|10.14778/2536222....|                null|                null|                null|                null|                null|         null|                null|                null|\n",
            "| 18|cloud data proces...|       8|      1\\u20138|Internetware '12|      Qingdao, China|In this paper, we...|10.1145/2430475.2...|https://doi.org/1...|   New York, NY, USA|Association for C...|       9781450318884|                2012|Guigang Zhang , C...|semanmr: big data...|       inproceedings|10.1145/2430475.2...|                null|                null|                null|                null|                null|         null|                null|                null|\n",
            "| 19|interactive, big ...|       4|1013\\u20131016|      SIGMOD '13|New York, New Yor...|Exploratory analy...|10.1145/2463676.2...|https://doi.org/1...|   New York, NY, USA|Association for C...|       9781450320375|                2013|Barnett Mike , Ch...|stat! an interact...|       inproceedings|10.1145/2463676.2...|                null|                null|                null|                null|                null|         null|                null|                null|\n",
            "+---+--------------------+--------+--------------+----------------+--------------------+--------------------+--------------------+--------------------+--------------------+--------------------+--------------------+--------------------+--------------------+--------------------+--------------------+--------------------+--------------------+--------------------+--------------------+--------------------+--------------------+-------------+--------------------+--------------------+\n",
            "only showing top 20 rows\n",
            "\n"
          ]
        }
      ]
    },
    {
      "cell_type": "code",
      "source": [
        "df_scimago = spark.read.load('/content/drive/MyDrive/exercicio/scimagojr_2020.csv', format=\"csv\", sep=\";\", inferSchema=\"true\", header=\"true\")"
      ],
      "metadata": {
        "id": "xCjEGXSmIycr"
      },
      "execution_count": 5,
      "outputs": []
    },
    {
      "cell_type": "code",
      "source": [
        "df_scimago.show()"
      ],
      "metadata": {
        "colab": {
          "base_uri": "https://localhost:8080/"
        },
        "id": "6FzObywvKDIK",
        "outputId": "0f7b0baf-5aae-40cf-ac95-daf2776a7dbe"
      },
      "execution_count": 6,
      "outputs": [
        {
          "output_type": "stream",
          "name": "stdout",
          "text": [
            "+----+-----------+--------------------+-------+------------------+------+-----------------+-------+------------------+--------------------+-----------+--------------------+----------------------+---------------------+-----------+--------------+----------------+--------------------+--------------------+--------------------+\n",
            "|Rank|   Sourceid|               Title|   Type|              Issn|   SJR|SJR Best Quartile|H index|Total Docs. (2020)|Total Docs. (3years)|Total Refs.|Total Cites (3years)|Citable Docs. (3years)|Cites / Doc. (2years)|Ref. / Doc.|       Country|          Region|           Publisher|            Coverage|          Categories|\n",
            "+----+-----------+--------------------+-------+------------------+------+-----------------+-------+------------------+--------------------+-----------+--------------------+----------------------+---------------------+-----------+--------------+----------------+--------------------+--------------------+--------------------+\n",
            "|   1|      28773|Ca-A Cancer Journ...|journal|15424863, 00079235|62,937|               Q1|    168|                47|                 119|       3452|               15499|                    80|               126,34|      73,45| United States|Northern America|     Wiley-Blackwell|           1950-2020|Hematology (Q1); ...|\n",
            "|   2|      19434|MMWR Recommendati...|journal|10575987, 15458601|40,949|               Q1|    143|                10|                   9|       1292|                 492|                     9|                50,00|     129,20| United States|Northern America|Centers for Disea...|           1990-2020|Epidemiology (Q1)...|\n",
            "|   3|      20315|Nature Reviews Mo...|journal|14710072, 14710080|37,461|               Q1|    431|               115|                 338|       8439|               10844|                   167|                32,83|      73,38|United Kingdom|  Western Europe|Nature Publishing...|           2000-2020|Cell Biology (Q1)...|\n",
            "|   4|      29431|Quarterly Journal...|journal|00335533, 15314650|34,573|               Q1|    259|                40|                 110|       2733|                1945|                   109|                16,00|      68,33|United Kingdom|  Western Europe|Oxford University...|           1886-2020|Economics and Eco...|\n",
            "|   5|21100812243|Nature Reviews Ma...|journal|          20588437|32,011|               Q1|    108|                92|                 264|      10632|               11188|                   138|                32,15|     115,57|United Kingdom|  Western Europe|Nature Publishing...|           2016-2020|Biomaterials (Q1)...|\n",
            "|   6|      58530|National vital st...|journal|15518922, 15518930|28,083|               Q1|    100|                12|                  34|        211|                1225|                    34|                36,00|      17,58| United States|Northern America|Public Health Ser...|           1998-2020|Life-span and Lif...|\n",
            "|   7|      18434|                Cell|journal|00928674, 10974172|26,304|               Q1|    776|               572|                1690|      35345|               52644|                  1563|                28,45|      61,79| United States|Northern America|          Cell Press|           1974-2020|Biochemistry, Gen...|\n",
            "|   8|      18991|Nature Reviews Ge...|journal|14710056, 14710064|26,214|               Q1|    365|               106|                 325|       7332|                6348|                   149|                21,22|      69,17|United Kingdom|  Western Europe|Nature Publishing...|           2000-2020|Genetics (Q1); Ge...|\n",
            "|   9|      29719|Reviews of Modern...|journal|00346861, 15390756|24,877|               Q1|    363|                34|                 124|       9662|               10251|                   120|                85,73|     284,18| United States|Northern America|American Physical...|           1929-2020|Physics and Astro...|\n",
            "|  10|      24404|Journal of Politi...|journal|00223808, 1537534X|21,034|               Q1|    186|               104|                 217|       5807|                1773|                   176|                 8,70|      55,84| United States|Northern America|University of Chi...|1969, 1973-1974, ...|Economics and Eco...|\n",
            "|  11|      21318|Nature Reviews Im...|journal|14741741, 14741733|20,529|               Q1|    390|               230|                 436|       9421|                8200|                   202|                17,33|      40,96|United Kingdom|  Western Europe|Nature Publishing...|           2001-2020|Immunology (Q1); ...|\n",
            "|  12|      23340|    Chemical Reviews|journal|15206890, 00092665|20,528|               Q1|    700|               283|                 738|     115486|               41703|                   703|                53,93|     408,08| United States|Northern America|American Chemical...|           1924-2020|Chemistry (miscel...|\n",
            "|  13|      71056|MMWR. Surveillanc...|journal|15458636, 15460738|19,961|               Q1|    100|                32|                  48|        499|                2235|                    48|                57,77|      15,59| United States|Northern America|Centers for Disea...|           2002-2020|Epidemiology (Q1)...|\n",
            "|  14|      15847|New England Journ...|journal|00284793, 15334406|19,889|               Q1|   1030|              1671|                4312|      15715|               82469|                  1842|                19,08|       9,40| United States|Northern America|Massachussetts Me...|           1945-2020|Medicine (miscell...|\n",
            "|  15|21100812579|       Nature Energy|journal|          20587546|19,733|               Q1|    129|               201|                 602|       5672|               15766|                   384|                25,94|      28,22| United States|Northern America|     Springer Nature|           2016-2020|Electronic, Optic...|\n",
            "|  16|      12464|Nature Reviews Ca...|journal|1474175X, 14741768|19,575|               Q1|    442|                85|                 373|       8894|                9077|                   202|                18,10|     104,64|United Kingdom|  Western Europe|Nature Publishing...|           2001-2020|Cancer Research (...|\n",
            "|  17|      15819|     Nature Medicine|journal|1546170X, 10788956|19,536|               Q1|    547|               452|                 953|      10601|               22548|                   664|                23,52|      23,45|United Kingdom|  Western Europe|Nature Publishing...|           1995-2020|Biochemistry, Gen...|\n",
            "|  18|21100778827|      Nature Methods|journal|15487091, 15487105|19,469|               Q1|    318|               331|                 999|       6602|               16032|                   649|                10,93|      19,95|United Kingdom|  Western Europe|Nature Publishing...|           2004-2020|Biochemistry (Q1)...|\n",
            "|  19|      18990|     Nature Genetics|journal|10614036, 15461718|18,861|               Q1|    573|               189|                 756|       9059|               17158|                   608|                23,10|      47,93|United Kingdom|  Western Europe|Nature Publishing...|           1992-2020|       Genetics (Q1)|\n",
            "|  20|19900191906|Academy of Manage...|journal|19416520, 19416067|18,318|               Q1|     73|                31|                  76|       7077|                1648|                    75|                16,43|     228,29| United States|Northern America|Academy of Manage...|           2010-2020|Business and Inte...|\n",
            "+----+-----------+--------------------+-------+------------------+------+-----------------+-------+------------------+--------------------+-----------+--------------------+----------------------+---------------------+-----------+--------------+----------------+--------------------+--------------------+--------------------+\n",
            "only showing top 20 rows\n",
            "\n"
          ]
        }
      ]
    },
    {
      "cell_type": "code",
      "source": [
        "df_jcs = spark.read.load('/content/drive/MyDrive/exercicio/jcs_2020.csv', format=\"csv\", sep=\";\", inferSchema=\"true\", header=\"true\")"
      ],
      "metadata": {
        "id": "ekNdDDojJ8t_"
      },
      "execution_count": 7,
      "outputs": []
    },
    {
      "cell_type": "code",
      "source": [
        "df_jcs.show()"
      ],
      "metadata": {
        "colab": {
          "base_uri": "https://localhost:8080/"
        },
        "id": "85YNa55AKMcP",
        "outputId": "6bea2947-99da-4be2-a3bc-e5b36460f434"
      },
      "execution_count": 8,
      "outputs": [
        {
          "output_type": "stream",
          "name": "stdout",
          "text": [
            "+----+--------------------+-----------+----+---------------------+-----------------+----+----+\n",
            "|Rank|  Full Journal Title|Total Cites| _c3|Journal Impact Factor|Eigenfactor Score| _c6| _c7|\n",
            "+----+--------------------+-----------+----+---------------------+-----------------+----+----+\n",
            "|   1|CA-A CANCER JOURN...|     55,868|null|              508.702|          0.10514|null|null|\n",
            "|   2|NATURE REVIEWS MO...|     58,477|null|               94.444|          0.07548|null|null|\n",
            "|   3|NEW ENGLAND JOURN...|    464,351|null|               91.245|          0.63118|null|null|\n",
            "|   4|NATURE REVIEWS DR...|     41,989|null|               84.694|          0.04822|null|null|\n",
            "|   5|              LANCET|    369,601|null|               79.321|          0.44524|null|null|\n",
            "|   6|Nature Reviews Cl...|     17,973|null|               66.675|          0.03876|null|null|\n",
            "|   7|Nature Reviews Ma...|     19,887|null|               66.308|          0.05677|null|null|\n",
            "|   8|       Nature Energy|     28,166|null|               60.858|          0.08007|null|null|\n",
            "|   9|NATURE REVIEWS CA...|     62,391|null|               60.716|          0.05917|null|null|\n",
            "|  10|NATURE REVIEWS MI...|     43,313|null|               60.633|          0.05415|null|null|\n",
            "|  11|    CHEMICAL REVIEWS|    224,417|null|               60.622|          0.21618|null|null|\n",
            "|  12|MMWR Surveillance...|      3,806|null|               58.769|          0.01298|null|null|\n",
            "|  13|JAMA-JOURNAL OF T...|    224,147|null|               56.272|          0.27975|null|null|\n",
            "|  14|MMWR Recommendati...|      3,288|null|               55.857|          0.01123|null|null|\n",
            "|  15|NATURE BIOTECHNOLOGY|     78,786|null|               54.908|          0.14567|null|null|\n",
            "|  16|CHEMICAL SOCIETY ...|    173,170|null|               54.564|          0.17657|null|null|\n",
            "|  17|REVIEWS OF MODERN...|     58,097|null|               54.494|          0.04506|null|null|\n",
            "|  18|     NATURE MEDICINE|    114,401|null|               53.440|          0.18405|null|null|\n",
            "|  19|NATURE REVIEWS GE...|     42,803|null|               53.242|          0.05893|null|null|\n",
            "|  20|NATURE REVIEWS IM...|     55,784|null|               53.106|          0.06392|null|null|\n",
            "+----+--------------------+-----------+----+---------------------+-----------------+----+----+\n",
            "only showing top 20 rows\n",
            "\n"
          ]
        }
      ]
    },
    {
      "cell_type": "code",
      "source": [
        "df_jcs = df_jcs.drop(\"_c3\")\n",
        "df_jcs = df_jcs.drop(\"_c6\")\n",
        "df_jcs = df_jcs.drop(\"_c7\")"
      ],
      "metadata": {
        "id": "rTRddUOaKZtw"
      },
      "execution_count": 9,
      "outputs": []
    },
    {
      "cell_type": "code",
      "source": [
        "df_scimago.printSchema()"
      ],
      "metadata": {
        "colab": {
          "base_uri": "https://localhost:8080/"
        },
        "id": "Ij8TDNfZzT4j",
        "outputId": "81815950-b0de-44ac-9b67-f871bb74b1a2"
      },
      "execution_count": 10,
      "outputs": [
        {
          "output_type": "stream",
          "name": "stdout",
          "text": [
            "root\n",
            " |-- Rank: integer (nullable = true)\n",
            " |-- Sourceid: long (nullable = true)\n",
            " |-- Title: string (nullable = true)\n",
            " |-- Type: string (nullable = true)\n",
            " |-- Issn: string (nullable = true)\n",
            " |-- SJR: string (nullable = true)\n",
            " |-- SJR Best Quartile: string (nullable = true)\n",
            " |-- H index: integer (nullable = true)\n",
            " |-- Total Docs. (2020): integer (nullable = true)\n",
            " |-- Total Docs. (3years): integer (nullable = true)\n",
            " |-- Total Refs.: integer (nullable = true)\n",
            " |-- Total Cites (3years): integer (nullable = true)\n",
            " |-- Citable Docs. (3years): integer (nullable = true)\n",
            " |-- Cites / Doc. (2years): string (nullable = true)\n",
            " |-- Ref. / Doc.: string (nullable = true)\n",
            " |-- Country: string (nullable = true)\n",
            " |-- Region: string (nullable = true)\n",
            " |-- Publisher: string (nullable = true)\n",
            " |-- Coverage: string (nullable = true)\n",
            " |-- Categories: string (nullable = true)\n",
            "\n"
          ]
        }
      ]
    },
    {
      "cell_type": "code",
      "source": [
        "for column in df_jcs.columns:\n",
        "  df_jcs = df_jcs.withColumnRenamed(column, column.lower())\n",
        "\n",
        "df_jcs = df_jcs.withColumnRenamed(\"Full Journal Title\",\"title\")\n"
      ],
      "metadata": {
        "id": "QMkjpn6H1WWt"
      },
      "execution_count": 11,
      "outputs": []
    },
    {
      "cell_type": "code",
      "source": [
        "from pyspark.sql.functions import lower, col\n",
        "\n",
        "\n",
        "df_jcs = df_jcs.select(\"*\", lower(col(\"title\")))\n",
        "df_scimago = df_scimago.select(\"*\", lower(col(\"title\")))\n"
      ],
      "metadata": {
        "id": "m6r1EzSR4Ngy"
      },
      "execution_count": 12,
      "outputs": []
    },
    {
      "cell_type": "code",
      "source": [
        "for column in df_scimago.columns:\n",
        "  df_scimago = df_scimago.withColumnRenamed(column, column.lower())\n"
      ],
      "metadata": {
        "id": "vHMfv5Fy4KKN"
      },
      "execution_count": 13,
      "outputs": []
    },
    {
      "cell_type": "code",
      "source": [
        "df_scimago = df_scimago.withColumnRenamed(\"lower(title)\",\"lower_title\")\n",
        "df_jcs = df_jcs.withColumnRenamed(\"lower(title)\",\"lower_title\")"
      ],
      "metadata": {
        "id": "Xdlr9yf99U2Q"
      },
      "execution_count": 14,
      "outputs": []
    },
    {
      "cell_type": "code",
      "source": [
        "from pyspark.sql.functions import desc\n",
        "df_ranks = df_scimago.join(df_jcs, df_scimago.lower_title == df_jcs.lower_title, 'inner')"
      ],
      "metadata": {
        "id": "uPVYYS0H61sE"
      },
      "execution_count": 15,
      "outputs": []
    },
    {
      "cell_type": "code",
      "source": [
        "df_ranks.show()"
      ],
      "metadata": {
        "colab": {
          "base_uri": "https://localhost:8080/"
        },
        "id": "4W4mIATH9JNv",
        "outputId": "f4db01cb-75cf-43f8-9be7-df1514b2b490"
      },
      "execution_count": 16,
      "outputs": [
        {
          "output_type": "stream",
          "name": "stdout",
          "text": [
            "+----+-----------+--------------------+-------+------------------+------+-----------------+-------+------------------+--------------------+-----------+--------------------+----------------------+---------------------+-----------+--------------+----------------+--------------------+--------------------+--------------------+--------------------+----+--------------------+-----------+---------------------+-----------------+--------------------+\n",
            "|rank|   sourceid|               title|   type|              issn|   sjr|sjr best quartile|h index|total docs. (2020)|total docs. (3years)|total refs.|total cites (3years)|citable docs. (3years)|cites / doc. (2years)|ref. / doc.|       country|          region|           publisher|            coverage|          categories|         lower_title|rank|               title|total cites|journal impact factor|eigenfactor score|         lower_title|\n",
            "+----+-----------+--------------------+-------+------------------+------+-----------------+-------+------------------+--------------------+-----------+--------------------+----------------------+---------------------+-----------+--------------+----------------+--------------------+--------------------+--------------------+--------------------+----+--------------------+-----------+---------------------+-----------------+--------------------+\n",
            "|   1|      28773|Ca-A Cancer Journ...|journal|15424863, 00079235|62,937|               Q1|    168|                47|                 119|       3452|               15499|                    80|               126,34|      73,45| United States|Northern America|     Wiley-Blackwell|           1950-2020|Hematology (Q1); ...|ca-a cancer journ...|   1|CA-A CANCER JOURN...|     55,868|              508.702|          0.10514|ca-a cancer journ...|\n",
            "|   2|      19434|MMWR Recommendati...|journal|10575987, 15458601|40,949|               Q1|    143|                10|                   9|       1292|                 492|                     9|                50,00|     129,20| United States|Northern America|Centers for Disea...|           1990-2020|Epidemiology (Q1)...|mmwr recommendati...|  14|MMWR Recommendati...|      3,288|               55.857|          0.01123|mmwr recommendati...|\n",
            "|   3|      20315|Nature Reviews Mo...|journal|14710072, 14710080|37,461|               Q1|    431|               115|                 338|       8439|               10844|                   167|                32,83|      73,38|United Kingdom|  Western Europe|Nature Publishing...|           2000-2020|Cell Biology (Q1)...|nature reviews mo...|   2|NATURE REVIEWS MO...|     58,477|               94.444|          0.07548|nature reviews mo...|\n",
            "|   4|      29431|Quarterly Journal...|journal|00335533, 15314650|34,573|               Q1|    259|                40|                 110|       2733|                1945|                   109|                16,00|      68,33|United Kingdom|  Western Europe|Oxford University...|           1886-2020|Economics and Eco...|quarterly journal...| 215|QUARTERLY JOURNAL...|     38,427|               15.563|          0.06169|quarterly journal...|\n",
            "|   5|21100812243|Nature Reviews Ma...|journal|          20588437|32,011|               Q1|    108|                92|                 264|      10632|               11188|                   138|                32,15|     115,57|United Kingdom|  Western Europe|Nature Publishing...|           2016-2020|Biomaterials (Q1)...|nature reviews ma...|   7|Nature Reviews Ma...|     19,887|               66.308|          0.05677|nature reviews ma...|\n",
            "|   7|      18434|                Cell|journal|00928674, 10974172|26,304|               Q1|    776|               572|                1690|      35345|               52644|                  1563|                28,45|      61,79| United States|Northern America|          Cell Press|           1974-2020|Biochemistry, Gen...|                cell|  33|                CELL|    320,407|               41.582|          0.52696|                cell|\n",
            "|   8|      18991|Nature Reviews Ge...|journal|14710056, 14710064|26,214|               Q1|    365|               106|                 325|       7332|                6348|                   149|                21,22|      69,17|United Kingdom|  Western Europe|Nature Publishing...|           2000-2020|Genetics (Q1); Ge...|nature reviews ge...|  19|NATURE REVIEWS GE...|     42,803|               53.242|          0.05893|nature reviews ge...|\n",
            "|   9|      29719|Reviews of Modern...|journal|00346861, 15390756|24,877|               Q1|    363|                34|                 124|       9662|               10251|                   120|                85,73|     284,18| United States|Northern America|American Physical...|           1929-2020|Physics and Astro...|reviews of modern...|  17|REVIEWS OF MODERN...|     58,097|               54.494|          0.04506|reviews of modern...|\n",
            "|  10|      24404|Journal of Politi...|journal|00223808, 1537534X|21,034|               Q1|    186|               104|                 217|       5807|                1773|                   176|                 8,70|      55,84| United States|Northern America|University of Chi...|1969, 1973-1974, ...|Economics and Eco...|journal of politi...| 558|JOURNAL OF POLITI...|     32,296|                9.103|          0.04171|journal of politi...|\n",
            "|  11|      21318|Nature Reviews Im...|journal|14741741, 14741733|20,529|               Q1|    390|               230|                 436|       9421|                8200|                   202|                17,33|      40,96|United Kingdom|  Western Europe|Nature Publishing...|           2001-2020|Immunology (Q1); ...|nature reviews im...|  20|NATURE REVIEWS IM...|     55,784|               53.106|          0.06392|nature reviews im...|\n",
            "|  12|      23340|    Chemical Reviews|journal|15206890, 00092665|20,528|               Q1|    700|               283|                 738|     115486|               41703|                   703|                53,93|     408,08| United States|Northern America|American Chemical...|           1924-2020|Chemistry (miscel...|    chemical reviews|  11|    CHEMICAL REVIEWS|    224,417|               60.622|          0.21618|    chemical reviews|\n",
            "|  14|      15847|New England Journ...|journal|00284793, 15334406|19,889|               Q1|   1030|              1671|                4312|      15715|               82469|                  1842|                19,08|       9,40| United States|Northern America|Massachussetts Me...|           1945-2020|Medicine (miscell...|new england journ...|   3|NEW ENGLAND JOURN...|    464,351|               91.245|          0.63118|new england journ...|\n",
            "|  15|21100812579|       Nature Energy|journal|          20587546|19,733|               Q1|    129|               201|                 602|       5672|               15766|                   384|                25,94|      28,22| United States|Northern America|     Springer Nature|           2016-2020|Electronic, Optic...|       nature energy|   8|       Nature Energy|     28,166|               60.858|          0.08007|       nature energy|\n",
            "|  16|      12464|Nature Reviews Ca...|journal|1474175X, 14741768|19,575|               Q1|    442|                85|                 373|       8894|                9077|                   202|                18,10|     104,64|United Kingdom|  Western Europe|Nature Publishing...|           2001-2020|Cancer Research (...|nature reviews ca...|   9|NATURE REVIEWS CA...|     62,391|               60.716|          0.05917|nature reviews ca...|\n",
            "|  17|      15819|     Nature Medicine|journal|1546170X, 10788956|19,536|               Q1|    547|               452|                 953|      10601|               22548|                   664|                23,52|      23,45|United Kingdom|  Western Europe|Nature Publishing...|           1995-2020|Biochemistry, Gen...|     nature medicine|  18|     NATURE MEDICINE|    114,401|               53.440|          0.18405|     nature medicine|\n",
            "|  18|21100778827|      Nature Methods|journal|15487091, 15487105|19,469|               Q1|    318|               331|                 999|       6602|               16032|                   649|                10,93|      19,95|United Kingdom|  Western Europe|Nature Publishing...|           2004-2020|Biochemistry (Q1)...|      nature methods|  68|      NATURE METHODS|     90,805|               28.547|          0.19705|      nature methods|\n",
            "|  19|      18990|     Nature Genetics|journal|10614036, 15461718|18,861|               Q1|    573|               189|                 756|       9059|               17158|                   608|                23,10|      47,93|United Kingdom|  Western Europe|Nature Publishing...|           1992-2020|       Genetics (Q1)|     nature genetics|  43|     NATURE GENETICS|    113,066|               38.330|          0.18681|     nature genetics|\n",
            "|  20|19900191906|Academy of Manage...|journal|19416520, 19416067|18,318|               Q1|     73|                31|                  76|       7077|                1648|                    75|                16,43|     228,29| United States|Northern America|Academy of Manage...|           2010-2020|Business and Inte...|academy of manage...| 193|Academy of Manage...|      6,851|               16.438|          0.01295|academy of manage...|\n",
            "|  21|      20651|Annual Review of ...|journal|15453278, 07320582|18,301|               Q1|    301|                30|                  74|       5413|                2105|                    74|                26,91|     180,43| United States|Northern America| Annual Reviews Inc.|           1983-2020|Immunology (Q1); ...|annual review of ...|  69|Annual Review of ...|     20,292|               28.527|          0.01729|annual review of ...|\n",
            "|  22|      17500|  Journal of Finance|journal|00221082, 15406261|18,151|               Q1|    299|                78|                 206|       4002|                1966|                   203|                 7,01|      51,31|United Kingdom|  Western Europe|Wiley-Blackwell P...|           1946-2020|Accounting (Q1); ...|  journal of finance| 812|  JOURNAL OF FINANCE|     52,685|                7.544|          0.04489|  journal of finance|\n",
            "+----+-----------+--------------------+-------+------------------+------+-----------------+-------+------------------+--------------------+-----------+--------------------+----------------------+---------------------+-----------+--------------+----------------+--------------------+--------------------+--------------------+--------------------+----+--------------------+-----------+---------------------+-----------------+--------------------+\n",
            "only showing top 20 rows\n",
            "\n"
          ]
        }
      ]
    },
    {
      "cell_type": "code",
      "source": [
        "from pyspark.sql.functions import split, regexp_replace"
      ],
      "metadata": {
        "id": "6O1BQdH6A6X4"
      },
      "execution_count": 17,
      "outputs": []
    },
    {
      "cell_type": "code",
      "source": [
        "df_ranks = df_ranks.withColumn('issn_0', split(df_ranks['issn'], ', ').getItem(0)) \\\n",
        "       .withColumn('issn_1', split(df_ranks['issn'], ', ').getItem(1)) \\\n",
        "       .withColumn('issn_2', split(df_ranks['issn'], ', ').getItem(2))"
      ],
      "metadata": {
        "id": "MRJhEy2y-EZi"
      },
      "execution_count": 18,
      "outputs": []
    },
    {
      "cell_type": "code",
      "source": [
        "df_ranks.show()"
      ],
      "metadata": {
        "colab": {
          "base_uri": "https://localhost:8080/"
        },
        "id": "bbXW5UYpA_Y9",
        "outputId": "2d682dfe-43cb-45ee-f1b5-b7c7bbad27aa"
      },
      "execution_count": 19,
      "outputs": [
        {
          "output_type": "stream",
          "name": "stdout",
          "text": [
            "+----+-----------+--------------------+-------+------------------+------+-----------------+-------+------------------+--------------------+-----------+--------------------+----------------------+---------------------+-----------+--------------+----------------+--------------------+--------------------+--------------------+--------------------+----+--------------------+-----------+---------------------+-----------------+--------------------+--------+--------+------+\n",
            "|rank|   sourceid|               title|   type|              issn|   sjr|sjr best quartile|h index|total docs. (2020)|total docs. (3years)|total refs.|total cites (3years)|citable docs. (3years)|cites / doc. (2years)|ref. / doc.|       country|          region|           publisher|            coverage|          categories|         lower_title|rank|               title|total cites|journal impact factor|eigenfactor score|         lower_title|  issn_0|  issn_1|issn_2|\n",
            "+----+-----------+--------------------+-------+------------------+------+-----------------+-------+------------------+--------------------+-----------+--------------------+----------------------+---------------------+-----------+--------------+----------------+--------------------+--------------------+--------------------+--------------------+----+--------------------+-----------+---------------------+-----------------+--------------------+--------+--------+------+\n",
            "|   1|      28773|Ca-A Cancer Journ...|journal|15424863, 00079235|62,937|               Q1|    168|                47|                 119|       3452|               15499|                    80|               126,34|      73,45| United States|Northern America|     Wiley-Blackwell|           1950-2020|Hematology (Q1); ...|ca-a cancer journ...|   1|CA-A CANCER JOURN...|     55,868|              508.702|          0.10514|ca-a cancer journ...|15424863|00079235|  null|\n",
            "|   2|      19434|MMWR Recommendati...|journal|10575987, 15458601|40,949|               Q1|    143|                10|                   9|       1292|                 492|                     9|                50,00|     129,20| United States|Northern America|Centers for Disea...|           1990-2020|Epidemiology (Q1)...|mmwr recommendati...|  14|MMWR Recommendati...|      3,288|               55.857|          0.01123|mmwr recommendati...|10575987|15458601|  null|\n",
            "|   3|      20315|Nature Reviews Mo...|journal|14710072, 14710080|37,461|               Q1|    431|               115|                 338|       8439|               10844|                   167|                32,83|      73,38|United Kingdom|  Western Europe|Nature Publishing...|           2000-2020|Cell Biology (Q1)...|nature reviews mo...|   2|NATURE REVIEWS MO...|     58,477|               94.444|          0.07548|nature reviews mo...|14710072|14710080|  null|\n",
            "|   4|      29431|Quarterly Journal...|journal|00335533, 15314650|34,573|               Q1|    259|                40|                 110|       2733|                1945|                   109|                16,00|      68,33|United Kingdom|  Western Europe|Oxford University...|           1886-2020|Economics and Eco...|quarterly journal...| 215|QUARTERLY JOURNAL...|     38,427|               15.563|          0.06169|quarterly journal...|00335533|15314650|  null|\n",
            "|   5|21100812243|Nature Reviews Ma...|journal|          20588437|32,011|               Q1|    108|                92|                 264|      10632|               11188|                   138|                32,15|     115,57|United Kingdom|  Western Europe|Nature Publishing...|           2016-2020|Biomaterials (Q1)...|nature reviews ma...|   7|Nature Reviews Ma...|     19,887|               66.308|          0.05677|nature reviews ma...|20588437|    null|  null|\n",
            "|   7|      18434|                Cell|journal|00928674, 10974172|26,304|               Q1|    776|               572|                1690|      35345|               52644|                  1563|                28,45|      61,79| United States|Northern America|          Cell Press|           1974-2020|Biochemistry, Gen...|                cell|  33|                CELL|    320,407|               41.582|          0.52696|                cell|00928674|10974172|  null|\n",
            "|   8|      18991|Nature Reviews Ge...|journal|14710056, 14710064|26,214|               Q1|    365|               106|                 325|       7332|                6348|                   149|                21,22|      69,17|United Kingdom|  Western Europe|Nature Publishing...|           2000-2020|Genetics (Q1); Ge...|nature reviews ge...|  19|NATURE REVIEWS GE...|     42,803|               53.242|          0.05893|nature reviews ge...|14710056|14710064|  null|\n",
            "|   9|      29719|Reviews of Modern...|journal|00346861, 15390756|24,877|               Q1|    363|                34|                 124|       9662|               10251|                   120|                85,73|     284,18| United States|Northern America|American Physical...|           1929-2020|Physics and Astro...|reviews of modern...|  17|REVIEWS OF MODERN...|     58,097|               54.494|          0.04506|reviews of modern...|00346861|15390756|  null|\n",
            "|  10|      24404|Journal of Politi...|journal|00223808, 1537534X|21,034|               Q1|    186|               104|                 217|       5807|                1773|                   176|                 8,70|      55,84| United States|Northern America|University of Chi...|1969, 1973-1974, ...|Economics and Eco...|journal of politi...| 558|JOURNAL OF POLITI...|     32,296|                9.103|          0.04171|journal of politi...|00223808|1537534X|  null|\n",
            "|  11|      21318|Nature Reviews Im...|journal|14741741, 14741733|20,529|               Q1|    390|               230|                 436|       9421|                8200|                   202|                17,33|      40,96|United Kingdom|  Western Europe|Nature Publishing...|           2001-2020|Immunology (Q1); ...|nature reviews im...|  20|NATURE REVIEWS IM...|     55,784|               53.106|          0.06392|nature reviews im...|14741741|14741733|  null|\n",
            "|  12|      23340|    Chemical Reviews|journal|15206890, 00092665|20,528|               Q1|    700|               283|                 738|     115486|               41703|                   703|                53,93|     408,08| United States|Northern America|American Chemical...|           1924-2020|Chemistry (miscel...|    chemical reviews|  11|    CHEMICAL REVIEWS|    224,417|               60.622|          0.21618|    chemical reviews|15206890|00092665|  null|\n",
            "|  14|      15847|New England Journ...|journal|00284793, 15334406|19,889|               Q1|   1030|              1671|                4312|      15715|               82469|                  1842|                19,08|       9,40| United States|Northern America|Massachussetts Me...|           1945-2020|Medicine (miscell...|new england journ...|   3|NEW ENGLAND JOURN...|    464,351|               91.245|          0.63118|new england journ...|00284793|15334406|  null|\n",
            "|  15|21100812579|       Nature Energy|journal|          20587546|19,733|               Q1|    129|               201|                 602|       5672|               15766|                   384|                25,94|      28,22| United States|Northern America|     Springer Nature|           2016-2020|Electronic, Optic...|       nature energy|   8|       Nature Energy|     28,166|               60.858|          0.08007|       nature energy|20587546|    null|  null|\n",
            "|  16|      12464|Nature Reviews Ca...|journal|1474175X, 14741768|19,575|               Q1|    442|                85|                 373|       8894|                9077|                   202|                18,10|     104,64|United Kingdom|  Western Europe|Nature Publishing...|           2001-2020|Cancer Research (...|nature reviews ca...|   9|NATURE REVIEWS CA...|     62,391|               60.716|          0.05917|nature reviews ca...|1474175X|14741768|  null|\n",
            "|  17|      15819|     Nature Medicine|journal|1546170X, 10788956|19,536|               Q1|    547|               452|                 953|      10601|               22548|                   664|                23,52|      23,45|United Kingdom|  Western Europe|Nature Publishing...|           1995-2020|Biochemistry, Gen...|     nature medicine|  18|     NATURE MEDICINE|    114,401|               53.440|          0.18405|     nature medicine|1546170X|10788956|  null|\n",
            "|  18|21100778827|      Nature Methods|journal|15487091, 15487105|19,469|               Q1|    318|               331|                 999|       6602|               16032|                   649|                10,93|      19,95|United Kingdom|  Western Europe|Nature Publishing...|           2004-2020|Biochemistry (Q1)...|      nature methods|  68|      NATURE METHODS|     90,805|               28.547|          0.19705|      nature methods|15487091|15487105|  null|\n",
            "|  19|      18990|     Nature Genetics|journal|10614036, 15461718|18,861|               Q1|    573|               189|                 756|       9059|               17158|                   608|                23,10|      47,93|United Kingdom|  Western Europe|Nature Publishing...|           1992-2020|       Genetics (Q1)|     nature genetics|  43|     NATURE GENETICS|    113,066|               38.330|          0.18681|     nature genetics|10614036|15461718|  null|\n",
            "|  20|19900191906|Academy of Manage...|journal|19416520, 19416067|18,318|               Q1|     73|                31|                  76|       7077|                1648|                    75|                16,43|     228,29| United States|Northern America|Academy of Manage...|           2010-2020|Business and Inte...|academy of manage...| 193|Academy of Manage...|      6,851|               16.438|          0.01295|academy of manage...|19416520|19416067|  null|\n",
            "|  21|      20651|Annual Review of ...|journal|15453278, 07320582|18,301|               Q1|    301|                30|                  74|       5413|                2105|                    74|                26,91|     180,43| United States|Northern America| Annual Reviews Inc.|           1983-2020|Immunology (Q1); ...|annual review of ...|  69|Annual Review of ...|     20,292|               28.527|          0.01729|annual review of ...|15453278|07320582|  null|\n",
            "|  22|      17500|  Journal of Finance|journal|00221082, 15406261|18,151|               Q1|    299|                78|                 206|       4002|                1966|                   203|                 7,01|      51,31|United Kingdom|  Western Europe|Wiley-Blackwell P...|           1946-2020|Accounting (Q1); ...|  journal of finance| 812|  JOURNAL OF FINANCE|     52,685|                7.544|          0.04489|  journal of finance|00221082|15406261|  null|\n",
            "+----+-----------+--------------------+-------+------------------+------+-----------------+-------+------------------+--------------------+-----------+--------------------+----------------------+---------------------+-----------+--------------+----------------+--------------------+--------------------+--------------------+--------------------+----+--------------------+-----------+---------------------+-----------------+--------------------+--------+--------+------+\n",
            "only showing top 20 rows\n",
            "\n"
          ]
        }
      ]
    },
    {
      "cell_type": "code",
      "source": [
        "df_main = df_bibtex.withColumn('issn', regexp_replace(df_bibtex.issn, '-', '')) \\"
      ],
      "metadata": {
        "id": "nsevqUH1ENKz"
      },
      "execution_count": 20,
      "outputs": []
    },
    {
      "cell_type": "code",
      "source": [
        "df_main.show()"
      ],
      "metadata": {
        "colab": {
          "base_uri": "https://localhost:8080/"
        },
        "id": "-n5IAjV3Essh",
        "outputId": "f72ced43-e4c7-4108-aa3f-9e3659f55e80"
      },
      "execution_count": 21,
      "outputs": [
        {
          "output_type": "stream",
          "name": "stdout",
          "text": [
            "+---+--------------------+--------+--------------+----------------+--------------------+--------------------+--------------------+--------------------+--------------------+--------------------+--------------------+--------------------+--------------------+--------------------+--------------------+--------------------+--------------------+--------------------+--------------------+--------------------+--------------------+-------------+--------------------+--------------------+\n",
            "|_c0|            keywords|numpages|         pages|          series|            location|            abstract|                 doi|                 url|             address|           publisher|                isbn|                year|              author|               title|    type_publication|                  id|              number|              volume|             journal|           booktitle|                issn|         note|              editor|             edition|\n",
            "+---+--------------------+--------+--------------+----------------+--------------------+--------------------+--------------------+--------------------+--------------------+--------------------+--------------------+--------------------+--------------------+--------------------+--------------------+--------------------+--------------------+--------------------+--------------------+--------------------+--------------------+-------------+--------------------+--------------------+\n",
            "|  0|dendritic cell al...|       2|  103\\u2013104|       GECCO '18|        Kyoto, Japan|In this work, we ...|10.1145/3205651.3...|https://doi.org/1...|   New York, NY, USA|Association for C...|       9781450357647|                2018|Dagdia Zaineb Che...|a distributed den...|       inproceedings|10.1145/3205651.3...|                null|                null|                null|                null|                null|         null|                null|                null|\n",
            "|  1|                null|       6|    12\\u201317|            null|                null|                null|     10.1145/3392050|https://doi.org/1...|   New York, NY, USA|Association for C...|                null|                2020|    Walker Henry M. |classroom vignett...|       inproceedings|     10.1145/3392050|                null|                null|                null|                null|                null|         null|                null|                null|\n",
            "|  2|                null|       5|  849\\u2013853|       ICCIR '22|      Nanjing, China|In view of the im...|10.1145/3548608.3...|https://doi.org/1...|   New York, NY, USA|Association for C...|       9781450397179|                2022|Wang Dianhui , Su...|research and deve...|       inproceedings|10.1145/3548608.3...|                null|                null|                null|                null|                null|         null|                null|                null|\n",
            "|  3|metadata, dataset...|       8|      1\\u20138|       PEARC '22|     Boston, MA, USA|The Scholarly Dat...|10.1145/3491418.3...|https://doi.org/1...|   New York, NY, USA|Association for C...|       9781450391610|                2022|Chapman Katie , R...|scholarly data sh...|       inproceedings|10.1145/3491418.3...|                null|                null|                null|                null|                null|         null|                null|                null|\n",
            "|  4|AI-system, GDP fo...|       6|      1\\u20136|   SPBPU IDE '19|Saint Petersburg,...|\"The relevance of...| deep learning an...| experience has p...| certain issues o...|               banks| insurance organi...|10.1145/3372177.3...|https://doi.org/1...|   New York, NY, USA|Association for C...|       9781450372442|                2019|Lomakin Nikolay ,...|\"digital ai \"\"dec...|       inproceedings|10.1145/3372177.3...|         null|                null|                null|\n",
            "|  5|hardware-software...|       8|  699\\u2013706|       ICCAD '17|  Irvine, California|Data clustering i...|                null|                null|                null|          IEEE Press|                null|                2017|Lee Dajung , Alth...|a streaming clust...|       inproceedings|10.5555/3199700.3...|                null|                null|                null|                null|                null|         null|                null|                null|\n",
            "|  6|                null|       4|  627\\u2013630|      CCGRID '16| Cartagena, Columbia|Most research has...|10.1109/CCGrid.20...|https://doi.org/1...|                null|          IEEE Press|       9781509024520|                2016|Zhang Yiqun , Ord...|big data analytic...|       inproceedings|10.1109/CCGrid.20...|                null|                null|                null|                null|                null|         null|                null|                null|\n",
            "|  7|                null|       4|  366\\u2013369|    ICISCAE 2021|       Dalian, China|Under the backgro...|10.1145/3482632.3...|https://doi.org/1...|   New York, NY, USA|Association for C...|       9781450390255|                2021|           Yang Fan |discussion on aut...|       inproceedings|10.1145/3482632.3...|                null|                null|                null|                null|                null|         null|                null|                null|\n",
            "|  8|many cpus/cores/g...|       1|             3|         UCC '17|  Austin, Texas, USA|\"Big Data is the ...|       fuel commerce| and drive progre...| there is also br...|  Internet of Things|        Smart Cities|          and others| it is critical t...| and fast communi...| parallel process...|             current| and future activ...|              speeds| and complexity a...|          deployable| and operational....|     academia|      and government| with the goal of...|\n",
            "|  9|sql, databases cu...|       6|  413\\u2013418|      SIGCSE '16|Memphis, Tennesse...|The Structured Qu...|10.1145/2839509.2...|https://doi.org/1...|   New York, NY, USA|Association for C...|       9781450336857|                2016|Silva Yasin N. , ...|sql: from traditi...|       inproceedings|10.1145/2839509.2...|                null|                null|                null|                null|                null|         null|                null|                null|\n",
            "| 10|Correlation Analy...|       5|    59\\u201363|       ICDTE '17|      Taipei, Taiwan|In recent years, ...|10.1145/3134847.3...|https://doi.org/1...|   New York, NY, USA|Association for C...|       9781450352833|                2017|Wan Jian , Chen B...|mining and measur...|       inproceedings|10.1145/3134847.3...|                null|                null|                null|                null|                null|         null|                null|                null|\n",
            "| 11|spark big data, d...|      14|  387\\u2013400|        PACT '16|       Haifa, Israel|Much research wor...|10.1145/2967938.2...|https://doi.org/1...|   New York, NY, USA|Association for C...|       9781450341219|                2016|Jia Zhen , Xue Ch...|auto-tuning spark...|       inproceedings|10.1145/2967938.2...|                null|                null|                null|                null|                null|         null|                null|                null|\n",
            "| 12|critical success ...|      22|     1\\u201322|            null|                null|The accounting in...|     10.1145/2700833|https://doi.org/1...|   New York, NY, USA|Association for C...|                null|                2015|       Xu Hongjiang |what are the most...|       inproceedings|     10.1145/2700833|                null|                null|                null|                null|                null|         null|                null|                null|\n",
            "| 13|Statistics, Case ...|       8|    12\\u201319|       ICDEL '22|      Beijing, China|At present, the b...|10.1145/3543321.3...|https://doi.org/1...|   New York, NY, USA|Association for C...|       9781450396417|                2022| Jia Ping , Liu Xin |teaching reform a...|       inproceedings|10.1145/3543321.3...|                null|                null|                null|                null|                null|         null|                null|                null|\n",
            "| 14|graph summarizati...|       8|      1\\u20138|        WIMS '17|      Amantea, Italy|\"A significant nu...| contemporary mod...| we propose a new...| present our appr...| and outline a po...| with the advent ...| our approach wil...| and will improve...|10.1145/3102254.3...|https://doi.org/1...|   New York, NY, USA|Association for C...|       9781450352253|                2017|Jamil Hasan M. , ...|a novel model for...|inproceedings|10.1145/3102254.3...|                null|\n",
            "| 15|Lyapunov Central ...|       5|    34\\u201338|      ICCBDC '21|Liverpool, United...|Central Limit The...|10.1145/3481646.3...|https://doi.org/1...|   New York, NY, USA|Association for C...|       9781450390408|                2021|Cuzzocrea Alfredo...|lyapunov central ...|       inproceedings|10.1145/3481646.3...|                null|                null|                null|                null|                null|         null|                null|                null|\n",
            "| 16|privacy, standard...|       6|    12\\u201317|       ICBSP '19|       Nagoya, Japan|In this paper, we...|10.1145/3366174.3...|https://doi.org/1...|   New York, NY, USA|Association for C...|       9781450372954|                2019|Kaneko Itaru , Yu...|on the privacy of...|       inproceedings|10.1145/3366174.3...|                null|                null|                null|                null|                null|         null|                null|                null|\n",
            "| 17|                null|       2|1166\\u20131167|            null|                null|                null|10.14778/2536222....|https://doi.org/1...|                null|      VLDB Endowment|                null|                2013|Bedini Ivan , Els...|the trento big da...|       inproceedings|10.14778/2536222....|                null|                null|                null|                null|                null|         null|                null|                null|\n",
            "| 18|cloud data proces...|       8|      1\\u20138|Internetware '12|      Qingdao, China|In this paper, we...|10.1145/2430475.2...|https://doi.org/1...|   New York, NY, USA|Association for C...|       9781450318884|                2012|Guigang Zhang , C...|semanmr: big data...|       inproceedings|10.1145/2430475.2...|                null|                null|                null|                null|                null|         null|                null|                null|\n",
            "| 19|interactive, big ...|       4|1013\\u20131016|      SIGMOD '13|New York, New Yor...|Exploratory analy...|10.1145/2463676.2...|https://doi.org/1...|   New York, NY, USA|Association for C...|       9781450320375|                2013|Barnett Mike , Ch...|stat! an interact...|       inproceedings|10.1145/2463676.2...|                null|                null|                null|                null|                null|         null|                null|                null|\n",
            "+---+--------------------+--------+--------------+----------------+--------------------+--------------------+--------------------+--------------------+--------------------+--------------------+--------------------+--------------------+--------------------+--------------------+--------------------+--------------------+--------------------+--------------------+--------------------+--------------------+--------------------+-------------+--------------------+--------------------+\n",
            "only showing top 20 rows\n",
            "\n"
          ]
        }
      ]
    },
    {
      "cell_type": "code",
      "source": [
        "df_merge_1 = df_main.join(df_ranks, df_main.issn == df_ranks.issn_0, 'left')\n",
        "df_merge_2 = df_main.join(df_ranks, df_main.issn == df_ranks.issn_1, 'left')\n",
        "df_merge_3 = df_main.join(df_ranks, df_main.issn == df_ranks.issn_2, 'left')"
      ],
      "metadata": {
        "id": "UT5vNSLwDhL8"
      },
      "execution_count": 23,
      "outputs": []
    },
    {
      "cell_type": "code",
      "source": [
        "df_total_0 = df_merge_1.union(df_merge_2)\n",
        "df_total = df_total_0.union(df_merge_3)\n",
        "\n",
        "# To remove the duplicates:\n",
        "\n",
        "result = df_total.dropDuplicates()"
      ],
      "metadata": {
        "id": "N-6RH7Bjhk4a"
      },
      "execution_count": 24,
      "outputs": []
    },
    {
      "cell_type": "code",
      "source": [
        "result.show()"
      ],
      "metadata": {
        "colab": {
          "base_uri": "https://localhost:8080/"
        },
        "id": "uNidm_EiB8Xr",
        "outputId": "ed6da162-ac5b-4555-b6f8-e34fa7a05ec1"
      },
      "execution_count": 25,
      "outputs": [
        {
          "output_type": "stream",
          "name": "stdout",
          "text": [
            "+---+--------------------+--------+------------+-----------+--------------------+--------------------+--------------------+--------------------+-----------------+--------------------+-------------+----+--------------------+--------------------+----------------+--------------------+------+------+--------------------+--------------------+----+----+------+-------+----+--------+-----+----+----+----+-----------------+-------+------------------+--------------------+-----------+--------------------+----------------------+---------------------+-----------+-------+------+---------+--------+----------+-----------+----+-----+-----------+---------------------+-----------------+-----------+------+------+------+\n",
            "|_c0|            keywords|numpages|       pages|     series|            location|            abstract|                 doi|                 url|          address|           publisher|         isbn|year|              author|               title|type_publication|                  id|number|volume|             journal|           booktitle|issn|note|editor|edition|rank|sourceid|title|type|issn| sjr|sjr best quartile|h index|total docs. (2020)|total docs. (3years)|total refs.|total cites (3years)|citable docs. (3years)|cites / doc. (2years)|ref. / doc.|country|region|publisher|coverage|categories|lower_title|rank|title|total cites|journal impact factor|eigenfactor score|lower_title|issn_0|issn_1|issn_2|\n",
            "+---+--------------------+--------+------------+-----------+--------------------+--------------------+--------------------+--------------------+-----------------+--------------------+-------------+----+--------------------+--------------------+----------------+--------------------+------+------+--------------------+--------------------+----+----+------+-------+----+--------+-----+----+----+----+-----------------+-------+------------------+--------------------+-----------+--------------------+----------------------+---------------------+-----------+-------+------+---------+--------+----------+-----------+----+-----+-----------+---------------------+-----------------+-----------+------+------+------+\n",
            "|  6|                null|       4|627\\u2013630| CCGRID '16| Cartagena, Columbia|Most research has...|10.1109/CCGrid.20...|https://doi.org/1...|             null|          IEEE Press|9781509024520|2016|Zhang Yiqun , Ord...|big data analytic...|   inproceedings|10.1109/CCGrid.20...|  null|  null|                null|                null|null|null|  null|   null|null|    null| null|null|null|null|             null|   null|              null|                null|       null|                null|                  null|                 null|       null|   null|  null|     null|    null|      null|       null|null| null|       null|                 null|             null|       null|  null|  null|  null|\n",
            "| 15|Lyapunov Central ...|       5|  34\\u201338| ICCBDC '21|Liverpool, United...|Central Limit The...|10.1145/3481646.3...|https://doi.org/1...|New York, NY, USA|Association for C...|9781450390408|2021|Cuzzocrea Alfredo...|lyapunov central ...|   inproceedings|10.1145/3481646.3...|  null|  null|                null|                null|null|null|  null|   null|null|    null| null|null|null|null|             null|   null|              null|                null|       null|                null|                  null|                 null|       null|   null|  null|     null|    null|      null|       null|null| null|       null|                 null|             null|       null|  null|  null|  null|\n",
            "|  3|big data, middle ...|       1|         712| SIGCSE '14|Atlanta, Georgia,...|Exposing students...|10.1145/2538862.2...|https://doi.org/1...|New York, NY, USA|Association for C...|9781450326056|2014|Mart\\u00ednez-Aro...|\"developing a gam...|   inproceedings|10.1145/2538862.2...|  null|  null|                null|                null|null|null|  null|   null|null|    null| null|null|null|null|             null|   null|              null|                null|       null|                null|                  null|                 null|       null|   null|  null|     null|    null|      null|       null|null| null|       null|                 null|             null|       null|  null|  null|  null|\n",
            "| 18|data mining, infe...|       2|    3\\u20134|BADGERS '12|Raleigh, North Ca...|This is the age o...|10.1145/2382416.2...|https://doi.org/1...|New York, NY, USA|Association for C...|9781450316613|2012|Manadhata Pratyus...|big data for secu...|   inproceedings|10.1145/2382416.2...|  null|  null|                null|                null|null|null|  null|   null|null|    null| null|null|null|null|             null|   null|              null|                null|       null|                null|                  null|                 null|       null|   null|  null|     null|    null|      null|       null|null| null|       null|                 null|             null|       null|  null|  null|  null|\n",
            "| 49|                null|       6|428\\u2013433|   ICIS '99|Charlotte, North ...|                null|                null|                null|              USA|Association for I...|         null|1999|Parssian Amir , S...|assessing data qu...|   inproceedings|10.5555/352925.35...|  null|  null|                null|                null|null|null|  null|   null|null|    null| null|null|null|null|             null|   null|              null|                null|       null|                null|                  null|                 null|       null|   null|  null|     null|    null|      null|       null|null| null|       null|                 null|             null|       null|  null|  null|  null|\n",
            "| 25|                null|       4|  79\\u201382|       null|                null|                null|10.1145/269012.26...|https://doi.org/1...|New York, NY, USA|Association for C...|         null|1998|   Redman Thomas C. |the impact of poo...|   inproceedings|10.1145/269012.26...|  null|  null|                null|                null|null|null|  null|   null|null|    null| null|null|null|null|             null|   null|              null|                null|       null|                null|                  null|                 null|       null|   null|  null|     null|    null|      null|       null|null| null|       null|                 null|             null|       null|  null|  null|  null|\n",
            "| 26|                null|       5|    1\\u20135|ICIMTECH 21|  Jakarta, Indonesia|NOTICE OF RETRACT...|10.1145/3465631.3...|https://doi.org/1...|New York, NY, USA|Association for C...|9781450385015|2021|Zhuang Huaxue , C...|sichuan consumers...|   inproceedings|10.1145/3465631.3...|  null|  null|                null|                null|null|null|  null|   null|null|    null| null|null|null|null|             null|   null|              null|                null|       null|                null|                  null|                 null|       null|   null|  null|     null|    null|      null|       null|null| null|       null|                 null|             null|       null|  null|  null|  null|\n",
            "| 27|Neural Network, C...|       5|  25\\u201329|ICMLSC 2020|Haiphong City, Vi...|Current developme...|10.1145/3380688.3...|https://doi.org/1...|New York, NY, USA|Association for C...|9781450376310|2020|Amaechi Eloanyi S...|enhancement of co...|   inproceedings|10.1145/3380688.3...|  null|  null|                null|                null|null|null|  null|   null|null|    null| null|null|null|null|             null|   null|              null|                null|       null|                null|                  null|                 null|       null|   null|  null|     null|    null|      null|       null|null| null|       null|                 null|             null|       null|  null|  null|  null|\n",
            "| 31|                null|    null|        null|       null|Cergy-Pontoise, F...|As the datasets o...|                null|                null|New York, NY, USA|Association for C...|9781450372015|2019|                null|proceedings of th...|   inproceedings|     10.1145/3372454|  null|  null|                null|                null|null|null|  null|   null|null|    null| null|null|null|null|             null|   null|              null|                null|       null|                null|                  null|                 null|       null|   null|  null|     null|    null|      null|       null|null| null|       null|                 null|             null|       null|  null|  null|  null|\n",
            "|  8|                null|       7|  19\\u201325| BIGDSE '15|     Florence, Italy|The design and de...|                null|                null|             null|          IEEE Press|         null|2015|Anderson Kenneth M. |embrace the chall...|   inproceedings|10.5555/2819289.2...|  null|  null|                null|                null|null|null|  null|   null|null|    null| null|null|null|null|             null|   null|              null|                null|       null|                null|                  null|                 null|       null|   null|  null|     null|    null|      null|       null|null| null|       null|                 null|             null|       null|  null|  null|  null|\n",
            "| 12|Traffic, Geo-soci...|       5|  13\\u201317|  ICCBD '18| Charleston, SC, USA|Currently, vehicl...|10.1145/3277104.3...|https://doi.org/1...|New York, NY, USA|Association for C...|9781450365406|2018|P\\u00e9rez-Espino...|trafico cdmx syst...|   inproceedings|10.1145/3277104.3...|  null|  null|                null|                null|null|null|  null|   null|null|    null| null|null|null|null|             null|   null|              null|                null|       null|                null|                  null|                 null|       null|   null|  null|     null|    null|      null|       null|null| null|       null|                 null|             null|       null|  null|  null|  null|\n",
            "|  7|                null|    null|       47-54|       null|                null|                null|10.1109/HPBDIS.20...|                null|             null|                null|         null|2019|Sen, Sachin and J...|operational perfo...|   inproceedings|             8735468|  null|  null|                null|2019 Internationa...|null|null|  null|   null|null|    null| null|null|null|null|             null|   null|              null|                null|       null|                null|                  null|                 null|       null|   null|  null|     null|    null|      null|       null|null| null|       null|                 null|             null|       null|  null|  null|  null|\n",
            "| 87|                null|    null|         1-6|       null|                null|                null|10.1109/CHILECON4...|                null|             null|                null|         null|2019|Peña-Cabrera, Mar...|fourth industrial...|   inproceedings|             8988083|  null|  null|                null|2019 IEEE CHILEAN...|null|null|  null|   null|null|    null| null|null|null|null|             null|   null|              null|                null|       null|                null|                  null|                 null|       null|   null|  null|     null|    null|      null|       null|null| null|       null|                 null|             null|       null|  null|  null|  null|\n",
            "| 31|                null|    null|     180-183|       null|                null|                null|10.1109/BigMM.201...|                null|             null|                null|         null|2015|Qiao, Fei and Zho...|approximate compu...|   inproceedings|             7153874|  null|  null|                null|2015 IEEE Interna...|null|null|  null|   null|null|    null| null|null|null|null|             null|   null|              null|                null|       null|                null|                  null|                 null|       null|   null|  null|     null|    null|      null|       null|null| null|       null|                 null|             null|       null|  null|  null|  null|\n",
            "| 49|                null|    null|       66-69|       null|                null|                null|10.1109/MITP.2014.80|                null|             null|                null|         null|2014|        Earley, Seth|usability for int...|         article|             6908966|     5|    16|     IT Professional|                null|null|null|  null|   null|null|    null| null|null|null|null|             null|   null|              null|                null|       null|                null|                  null|                 null|       null|   null|  null|     null|    null|      null|       null|null| null|       null|                 null|             null|       null|  null|  null|  null|\n",
            "| 23|                null|    null|   2477-2486|       null|                null|                null|10.1111/j.1365-29...|                null|             null|                null|         null|2012|Pettini, Max and ...|a new, precise me...|         article|             8175749|     4|   425|Monthly Notices o...|                null|null|null|  null|   null|null|    null| null|null|null|null|             null|   null|              null|                null|       null|                null|                  null|                 null|       null|   null|  null|     null|    null|      null|       null|null| null|       null|                 null|             null|       null|  null|  null|  null|\n",
            "| 95|                null|    null| 50555-50558|       null|                null|                null|10.1109/ACCESS.20...|                null|             null|                null|         null|2018|Zhang, Yin and Wa...|ieee access speci...|         article|             8474523|  null|     6|         IEEE Access|                null|null|null|  null|   null|null|    null| null|null|null|null|             null|   null|              null|                null|       null|                null|                  null|                 null|       null|   null|  null|     null|    null|      null|       null|null| null|       null|                 null|             null|       null|  null|  null|  null|\n",
            "|  3|                null|    null|     223-230|       null|                null|                null| 10.1109/SC2.2017.41|                null|             null|                null|         null|2017|Cai, Lin and Qi, ...|a recommendation-...|   inproceedings|             8315381|  null|  null|                null|2017 IEEE 7th Int...|null|null|  null|   null|null|    null| null|null|null|null|             null|   null|              null|                null|       null|                null|                  null|                 null|       null|   null|  null|     null|    null|      null|       null|null| null|       null|                 null|             null|       null|  null|  null|  null|\n",
            "|  0|                null|    null|   1089-1096|       null|                null|                null|10.1145/2808797.2...|                null|             null|                null|         null|2015|Roccetti, Marco a...|inside chronic au...|   inproceedings|             7403683|  null|  null|                null|2015 IEEE/ACM Int...|null|null|  null|   null|null|    null| null|null|null|null|             null|   null|              null|                null|       null|                null|                  null|                 null|       null|   null|  null|     null|    null|      null|       null|null| null|       null|                 null|             null|       null|  null|  null|  null|\n",
            "| 92|                null|    null|     548-552|       null|                null|                null|10.1109/MLBDBI540...|                null|             null|                null|         null|2021|Jing, Luru and Fe...|the evolutionary ...|   inproceedings|             9731028|  null|  null|                null|2021 3rd Internat...|null|null|  null|   null|null|    null| null|null|null|null|             null|   null|              null|                null|       null|                null|                  null|                 null|       null|   null|  null|     null|    null|      null|       null|null| null|       null|                 null|             null|       null|  null|  null|  null|\n",
            "+---+--------------------+--------+------------+-----------+--------------------+--------------------+--------------------+--------------------+-----------------+--------------------+-------------+----+--------------------+--------------------+----------------+--------------------+------+------+--------------------+--------------------+----+----+------+-------+----+--------+-----+----+----+----+-----------------+-------+------------------+--------------------+-----------+--------------------+----------------------+---------------------+-----------+-------+------+---------+--------+----------+-----------+----+-----+-----------+---------------------+-----------------+-----------+------+------+------+\n",
            "only showing top 20 rows\n",
            "\n"
          ]
        }
      ]
    }
  ]
}