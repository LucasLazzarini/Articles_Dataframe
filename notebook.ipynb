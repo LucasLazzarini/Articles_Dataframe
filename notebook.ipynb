{
 "cells": [
  {
   "cell_type": "code",
   "execution_count": null,
   "metadata": {},
   "outputs": [],
   "source": [
    "from python.read_files import read_files\n",
    "from python.cleaner_df import cleaner_columns\n",
    "from python.save_df import save_df\n",
    "import yaml\n",
    "from yaml.loader import SafeLoader\n",
    "\n",
    "with open('config.yaml') as f:\n",
    "    config = yaml.load(f, Loader=SafeLoader)\n",
    "\n",
    "df = read_files(path_files='dados')\n",
    "df_new = cleaner_columns(df=df, columns_list=config['chosen_columns'])\n",
    "save_df(df=df_new, file_type=config['file_saved_format'])\n",
    "\n"
   ]
  }
 ],
 "metadata": {
  "kernelspec": {
   "display_name": "Python 3.9.13 ('PythonMBA')",
   "language": "python",
   "name": "python3"
  },
  "language_info": {
   "codemirror_mode": {
    "name": "ipython",
    "version": 3
   },
   "file_extension": ".py",
   "mimetype": "text/x-python",
   "name": "python",
   "nbconvert_exporter": "python",
   "pygments_lexer": "ipython3",
   "version": "3.9.13"
  },
  "orig_nbformat": 4,
  "vscode": {
   "interpreter": {
    "hash": "4835f8f84e4f24779005d361a0fb604378f9631b41cf55df04025d996fda9e48"
   }
  }
 },
 "nbformat": 4,
 "nbformat_minor": 2
}
